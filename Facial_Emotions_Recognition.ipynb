{
  "cells": [
    {
      "cell_type": "markdown",
      "metadata": {
        "id": "view-in-github",
        "colab_type": "text"
      },
      "source": [
        "<a href=\"https://colab.research.google.com/github/AmoghUpadhayay/Machine-Learning-Projects/blob/main/Facial_Emotions_Recognition.ipynb\" target=\"_parent\"><img src=\"https://colab.research.google.com/assets/colab-badge.svg\" alt=\"Open In Colab\"/></a>"
      ]
    },
    {
      "cell_type": "code",
      "execution_count": null,
      "metadata": {
        "colab": {
          "base_uri": "https://localhost:8080/"
        },
        "id": "7bm8_pveqzSl",
        "outputId": "463c2f46-bb21-4601-f6af-0a429f914562"
      },
      "outputs": [
        {
          "name": "stdout",
          "output_type": "stream",
          "text": [
            "Cloning into 'facial_expressions'...\n",
            "remote: Enumerating objects: 14214, done.\u001b[K\n",
            "remote: Total 14214 (delta 0), reused 0 (delta 0), pack-reused 14214\u001b[K\n",
            "Receiving objects: 100% (14214/14214), 239.65 MiB | 16.07 MiB/s, done.\n",
            "Resolving deltas: 100% (223/223), done.\n",
            "Checking out files: 100% (13996/13996), done.\n"
          ]
        }
      ],
      "source": [
        "!git clone https://github.com/muxspace/facial_expressions.git"
      ]
    },
    {
      "cell_type": "code",
      "execution_count": null,
      "metadata": {
        "id": "m6O8s3Jhq4Tw"
      },
      "outputs": [],
      "source": [
        "import csv\n",
        "data={}\n",
        "with open('/content/facial_expressions/data/legend.csv') as f:\n",
        "  reader=csv.reader(f)\n",
        "  next(reader)\n",
        "  for row in reader:\n",
        "    key=row[2].lower()\n",
        "    if(key in data):\n",
        "      data[key].append(row[1])\n",
        "    else:\n",
        "      data[key]=[row[1]]"
      ]
    },
    {
      "cell_type": "code",
      "execution_count": null,
      "metadata": {
        "colab": {
          "base_uri": "https://localhost:8080/"
        },
        "id": "xzCRseRUq6te",
        "outputId": "eda3c04f-1b3b-410a-ac18-7e5afc2ead41"
      },
      "outputs": [
        {
          "data": {
            "text/plain": [
              "['anger',\n",
              " 'surprise',\n",
              " 'disgust',\n",
              " 'fear',\n",
              " 'neutral',\n",
              " 'happiness',\n",
              " 'sadness',\n",
              " 'contempt']"
            ]
          },
          "execution_count": 4,
          "metadata": {},
          "output_type": "execute_result"
        }
      ],
      "source": [
        "emotion_list=list(data.keys())\n",
        "emotion_list"
      ]
    },
    {
      "cell_type": "code",
      "execution_count": null,
      "metadata": {
        "id": "uw6rhg85q9Rw"
      },
      "outputs": [],
      "source": [
        "import os\n",
        "os.mkdir('master_data')\n",
        "os.mkdir('master_data/training')\n",
        "os.mkdir('master_data/testing')"
      ]
    },
    {
      "cell_type": "code",
      "execution_count": null,
      "metadata": {
        "id": "iEhSo5odrAV6"
      },
      "outputs": [],
      "source": [
        "for emotion in emotion_list:\n",
        "  os.mkdir(os.path.join('master_data/training/',emotion))\n",
        "  os.mkdir(os.path.join('master_data/testing/',emotion))"
      ]
    },
    {
      "cell_type": "code",
      "execution_count": null,
      "metadata": {
        "id": "Cozh1EtXrCrg"
      },
      "outputs": [],
      "source": [
        "from shutil import copyfile\n",
        "split_size=0.8\n",
        "\n",
        "for emotion,images in data.items():\n",
        "  train_size=int(split_size*len(images))\n",
        "  train_images=images[:train_size]\n",
        "  test_images=images[train_size:]\n",
        "  for image in train_images:\n",
        "    source=os.path.join('/content/facial_expressions/images',image)\n",
        "    dest=os.path.join('/content/master_data/training',emotion,image)\n",
        "    copyfile(source,dest)\n",
        "  for image in test_images:\n",
        "    source=os.path.join('/content/facial_expressions/images',image)\n",
        "    dest=os.path.join('/content/master_data/testing',emotion,image)\n",
        "    copyfile(source,dest)"
      ]
    },
    {
      "cell_type": "code",
      "execution_count": null,
      "metadata": {
        "id": "BheIjDocrFWV"
      },
      "outputs": [],
      "source": [
        "import tensorflow as tf\n",
        "from tensorflow.keras.models import Sequential\n",
        "from tensorflow.keras.layers import Dense,Conv2D,MaxPooling2D,Flatten\n",
        "from tensorflow.keras.optimizers import Adam\n",
        "from tensorflow.keras.callbacks import EarlyStopping"
      ]
    },
    {
      "cell_type": "code",
      "execution_count": null,
      "metadata": {
        "id": "s0-bj9umrJfj"
      },
      "outputs": [],
      "source": [
        "model=Sequential([\n",
        "                  Conv2D(16,kernel_size=(3,3),activation='relu',input_shape=(100,100,3)),\n",
        "                  MaxPooling2D(2,2),\n",
        "                  Conv2D(32,kernel_size=(3,3),activation='relu'),\n",
        "                  MaxPooling2D(2,2),\n",
        "                  Conv2D(64,kernel_size=(3,3),activation='relu'),\n",
        "                  MaxPooling2D(2,2),\n",
        "                  Flatten()\n",
        "                  ,Dense(1024,activation='relu')\n",
        "                  ,Dense(8,activation='softmax')\n",
        "                  ])"
      ]
    },
    {
      "cell_type": "code",
      "execution_count": null,
      "metadata": {
        "colab": {
          "base_uri": "https://localhost:8080/"
        },
        "id": "lGF4P8UKrOi-",
        "outputId": "b63839ff-f7f1-4786-bbb8-c10adddefaba"
      },
      "outputs": [
        {
          "name": "stdout",
          "output_type": "stream",
          "text": [
            "Model: \"sequential\"\n",
            "_________________________________________________________________\n",
            " Layer (type)                Output Shape              Param #   \n",
            "=================================================================\n",
            " conv2d (Conv2D)             (None, 98, 98, 16)        448       \n",
            "                                                                 \n",
            " max_pooling2d (MaxPooling2D  (None, 49, 49, 16)       0         \n",
            " )                                                               \n",
            "                                                                 \n",
            " conv2d_1 (Conv2D)           (None, 47, 47, 32)        4640      \n",
            "                                                                 \n",
            " max_pooling2d_1 (MaxPooling  (None, 23, 23, 32)       0         \n",
            " 2D)                                                             \n",
            "                                                                 \n",
            " conv2d_2 (Conv2D)           (None, 21, 21, 64)        18496     \n",
            "                                                                 \n",
            " max_pooling2d_2 (MaxPooling  (None, 10, 10, 64)       0         \n",
            " 2D)                                                             \n",
            "                                                                 \n",
            " flatten (Flatten)           (None, 6400)              0         \n",
            "                                                                 \n",
            " dense (Dense)               (None, 1024)              6554624   \n",
            "                                                                 \n",
            " dense_1 (Dense)             (None, 8)                 8200      \n",
            "                                                                 \n",
            "=================================================================\n",
            "Total params: 6,586,408\n",
            "Trainable params: 6,586,408\n",
            "Non-trainable params: 0\n",
            "_________________________________________________________________\n"
          ]
        },
        {
          "name": "stderr",
          "output_type": "stream",
          "text": [
            "/usr/local/lib/python3.7/dist-packages/keras/optimizer_v2/adam.py:105: UserWarning: The `lr` argument is deprecated, use `learning_rate` instead.\n",
            "  super(Adam, self).__init__(name, **kwargs)\n"
          ]
        }
      ],
      "source": [
        "model.compile(optimizer = Adam(lr=0.001),loss = 'categorical_crossentropy',metrics=['accuracy'])\n",
        "model.summary()"
      ]
    },
    {
      "cell_type": "code",
      "execution_count": null,
      "metadata": {
        "colab": {
          "base_uri": "https://localhost:8080/"
        },
        "id": "imYpF0OOrUO5",
        "outputId": "31c5dd53-d3f9-4db5-e503-992e9d325eb4"
      },
      "outputs": [
        {
          "name": "stdout",
          "output_type": "stream",
          "text": [
            "Found 10941 images belonging to 8 classes.\n",
            "Found 2742 images belonging to 8 classes.\n"
          ]
        }
      ],
      "source": [
        "from tensorflow.keras.preprocessing.image import ImageDataGenerator\n",
        "train_dir='/content/master_data/training'\n",
        "test_dir='/content/master_data/testing'\n",
        "\n",
        "train_gen=ImageDataGenerator(rescale=1.0/255)\n",
        "train_data=train_gen.flow_from_directory(\n",
        "    train_dir,\n",
        "    target_size=(100,100),\n",
        "    class_mode='categorical',\n",
        "    batch_size=128\n",
        "    )\n",
        "\n",
        "test_gen=ImageDataGenerator(rescale=1.0/255)\n",
        "test_data=test_gen.flow_from_directory(\n",
        "    test_dir,\n",
        "    target_size=(100,100),\n",
        "    class_mode='categorical',\n",
        "    batch_size=128\n",
        "    )"
      ]
    },
    {
      "cell_type": "code",
      "execution_count": null,
      "metadata": {
        "id": "Fk7GaVm-rbuq"
      },
      "outputs": [],
      "source": [
        "es=EarlyStopping(monitor='accuracy',patience=2,min_delta=0.01)"
      ]
    },
    {
      "cell_type": "code",
      "execution_count": null,
      "metadata": {
        "colab": {
          "background_save": true,
          "base_uri": "https://localhost:8080/"
        },
        "id": "irwf4mXGrf9t",
        "outputId": "0d4e291f-03b4-48c3-fe8a-490445521193"
      },
      "outputs": [
        {
          "name": "stderr",
          "output_type": "stream",
          "text": [
            "/usr/local/lib/python3.7/dist-packages/ipykernel_launcher.py:5: UserWarning: `Model.fit_generator` is deprecated and will be removed in a future version. Please use `Model.fit`, which supports generators.\n",
            "  \"\"\"\n"
          ]
        },
        {
          "name": "stdout",
          "output_type": "stream",
          "text": [
            "Epoch 1/10\n",
            "86/86 [==============================] - ETA: 0s - loss: 0.9387 - accuracy: 0.6113WARNING:tensorflow:Early stopping conditioned on metric `val_acc` which is not available. Available metrics are: loss,accuracy,val_loss,val_accuracy\n",
            "86/86 [==============================] - 120s 1s/step - loss: 0.9387 - accuracy: 0.6113 - val_loss: 0.9934 - val_accuracy: 0.6331\n",
            "Epoch 2/10\n",
            "86/86 [==============================] - ETA: 0s - loss: 0.5971 - accuracy: 0.7954WARNING:tensorflow:Early stopping conditioned on metric `val_acc` which is not available. Available metrics are: loss,accuracy,val_loss,val_accuracy\n",
            "86/86 [==============================] - 116s 1s/step - loss: 0.5971 - accuracy: 0.7954 - val_loss: 0.8074 - val_accuracy: 0.7236\n",
            "Epoch 3/10\n",
            "86/86 [==============================] - ETA: 0s - loss: 0.4966 - accuracy: 0.8320WARNING:tensorflow:Early stopping conditioned on metric `val_acc` which is not available. Available metrics are: loss,accuracy,val_loss,val_accuracy\n",
            "86/86 [==============================] - 115s 1s/step - loss: 0.4966 - accuracy: 0.8320 - val_loss: 1.3872 - val_accuracy: 0.6813\n",
            "Epoch 4/10\n",
            "86/86 [==============================] - ETA: 0s - loss: 0.4578 - accuracy: 0.8409WARNING:tensorflow:Early stopping conditioned on metric `val_acc` which is not available. Available metrics are: loss,accuracy,val_loss,val_accuracy\n",
            "86/86 [==============================] - 116s 1s/step - loss: 0.4578 - accuracy: 0.8409 - val_loss: 1.1822 - val_accuracy: 0.6853\n",
            "Epoch 5/10\n",
            "86/86 [==============================] - ETA: 0s - loss: 0.4194 - accuracy: 0.8567WARNING:tensorflow:Early stopping conditioned on metric `val_acc` which is not available. Available metrics are: loss,accuracy,val_loss,val_accuracy\n",
            "86/86 [==============================] - 115s 1s/step - loss: 0.4194 - accuracy: 0.8567 - val_loss: 1.5339 - val_accuracy: 0.6681\n",
            "Epoch 6/10\n",
            "86/86 [==============================] - ETA: 0s - loss: 0.3730 - accuracy: 0.8685WARNING:tensorflow:Early stopping conditioned on metric `val_acc` which is not available. Available metrics are: loss,accuracy,val_loss,val_accuracy\n",
            "86/86 [==============================] - 116s 1s/step - loss: 0.3730 - accuracy: 0.8685 - val_loss: 1.6476 - val_accuracy: 0.6809\n",
            "Epoch 7/10\n",
            "86/86 [==============================] - ETA: 0s - loss: 0.3328 - accuracy: 0.8813WARNING:tensorflow:Early stopping conditioned on metric `val_acc` which is not available. Available metrics are: loss,accuracy,val_loss,val_accuracy\n",
            "86/86 [==============================] - 115s 1s/step - loss: 0.3328 - accuracy: 0.8813 - val_loss: 1.8345 - val_accuracy: 0.6685\n",
            "Epoch 8/10\n",
            "86/86 [==============================] - ETA: 0s - loss: 0.3002 - accuracy: 0.8928WARNING:tensorflow:Early stopping conditioned on metric `val_acc` which is not available. Available metrics are: loss,accuracy,val_loss,val_accuracy\n",
            "86/86 [==============================] - 115s 1s/step - loss: 0.3002 - accuracy: 0.8928 - val_loss: 2.0681 - val_accuracy: 0.6772\n",
            "Epoch 9/10\n",
            "86/86 [==============================] - ETA: 0s - loss: 0.2722 - accuracy: 0.8996WARNING:tensorflow:Early stopping conditioned on metric `val_acc` which is not available. Available metrics are: loss,accuracy,val_loss,val_accuracy\n",
            "86/86 [==============================] - 116s 1s/step - loss: 0.2722 - accuracy: 0.8996 - val_loss: 1.9943 - val_accuracy: 0.6736\n",
            "Epoch 10/10\n",
            "86/86 [==============================] - ETA: 0s - loss: 0.2242 - accuracy: 0.9189WARNING:tensorflow:Early stopping conditioned on metric `val_acc` which is not available. Available metrics are: loss,accuracy,val_loss,val_accuracy\n",
            "86/86 [==============================] - 116s 1s/step - loss: 0.2242 - accuracy: 0.9189 - val_loss: 1.9476 - val_accuracy: 0.6802\n"
          ]
        },
        {
          "data": {
            "text/plain": [
              "<keras.callbacks.History at 0x7f873b8e8810>"
            ]
          },
          "execution_count": null,
          "metadata": {},
          "output_type": "execute_result"
        }
      ],
      "source": [
        "model.fit_generator(train_data,\n",
        "          epochs=10,\n",
        "          verbose=1,\n",
        "          validation_data=test_data,\n",
        "          callbacks=[es])"
      ]
    },
    {
      "cell_type": "code",
      "execution_count": null,
      "metadata": {
        "id": "E6v2j97prqAN"
      },
      "outputs": [],
      "source": [
        "from google.colab import drive\n",
        "drive.mount('/content/drive')"
      ]
    }
  ],
  "metadata": {
    "accelerator": "GPU",
    "colab": {
      "name": "Facial_Emotions_Recognition.ipynb",
      "provenance": [],
      "authorship_tag": "ABX9TyO7HujThdT/RPYxir6tXe2D",
      "include_colab_link": true
    },
    "gpuClass": "standard",
    "kernelspec": {
      "display_name": "Python 3",
      "name": "python3"
    },
    "language_info": {
      "name": "python"
    }
  },
  "nbformat": 4,
  "nbformat_minor": 0
}