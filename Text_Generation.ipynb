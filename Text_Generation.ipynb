{
  "nbformat": 4,
  "nbformat_minor": 0,
  "metadata": {
    "colab": {
      "name": "Text Generation.ipynb",
      "provenance": [],
      "collapsed_sections": [],
      "toc_visible": true,
      "authorship_tag": "ABX9TyOAINwHD/3ltliytv/cnkhV",
      "include_colab_link": true
    },
    "kernelspec": {
      "name": "python3",
      "display_name": "Python 3"
    },
    "language_info": {
      "name": "python"
    },
    "accelerator": "GPU",
    "gpuClass": "standard"
  },
  "cells": [
    {
      "cell_type": "markdown",
      "metadata": {
        "id": "view-in-github",
        "colab_type": "text"
      },
      "source": [
        "<a href=\"https://colab.research.google.com/github/AmoghUpadhayay/Machine-Learning-Projects/blob/main/Text_Generation.ipynb\" target=\"_parent\"><img src=\"https://colab.research.google.com/assets/colab-badge.svg\" alt=\"Open In Colab\"/></a>"
      ]
    },
    {
      "cell_type": "code",
      "execution_count": null,
      "metadata": {
        "id": "QvEAW3Q9HbcP"
      },
      "outputs": [],
      "source": [
        "## get the data\n",
        "!wget https://www.gutenberg.org/files/1661/1661-0.txt -o book.txt"
      ]
    },
    {
      "cell_type": "code",
      "source": [
        "## open the file saved in 1661-0.txt,'r' = opens the file for reading\n",
        "## utf-8 stands for unicode transformation format - 8 bits \n",
        "text=open('1661-0.txt','r',encoding='utf-8').read()\n",
        "text=text.lower()"
      ],
      "metadata": {
        "id": "NmRhg5RcHgR9"
      },
      "execution_count": null,
      "outputs": []
    },
    {
      "cell_type": "code",
      "source": [
        "sentences=text.split('\\n')"
      ],
      "metadata": {
        "id": "W_Od0zXKHjry"
      },
      "execution_count": null,
      "outputs": []
    },
    {
      "cell_type": "code",
      "source": [
        "import tensorflow as tf\n",
        "import keras\n",
        "from keras.preprocessing.text import Tokenizer\n",
        "from keras.preprocessing.sequence import pad_sequences"
      ],
      "metadata": {
        "id": "XKinZLsbHozD"
      },
      "execution_count": null,
      "outputs": []
    },
    {
      "cell_type": "code",
      "source": [
        "##out of vocab = Unknown\n",
        "\n",
        "tokenizer=Tokenizer(num_words=None,oov_token='<UNK>')\n",
        "tokenizer.fit_on_texts(sentences)"
      ],
      "metadata": {
        "id": "T1mnZeoyHpec"
      },
      "execution_count": null,
      "outputs": []
    },
    {
      "cell_type": "code",
      "source": [
        "## gives dictionary\n",
        "vocab_size=len(tokenizer.word_index)+1\n",
        "vocab_size"
      ],
      "metadata": {
        "colab": {
          "base_uri": "https://localhost:8080/"
        },
        "id": "e6iXZQLqHrvb",
        "outputId": "4281ae89-83d2-45f1-a750-418d812248ef"
      },
      "execution_count": null,
      "outputs": [
        {
          "output_type": "execute_result",
          "data": {
            "text/plain": [
              "8915"
            ]
          },
          "metadata": {},
          "execution_count": 6
        }
      ]
    },
    {
      "cell_type": "code",
      "source": [
        "## creating sequences from sentences\n",
        "sequences=tokenizer.texts_to_sequences(sentences)"
      ],
      "metadata": {
        "id": "KltG-aeIHtq6"
      },
      "execution_count": null,
      "outputs": []
    },
    {
      "cell_type": "code",
      "source": [
        "## getting n gram sequences that is making more sequences without disturbing the order\n",
        "\n",
        "input_sequences=[]\n",
        "for sequence in sequences:\n",
        "  for i in range(1,len(sequence)):\n",
        "    n_gram_sequence=sequence[:i+1]\n",
        "    input_sequences.append(n_gram_sequence)\n",
        "print(input_sequences[0],input_sequences[1])"
      ],
      "metadata": {
        "colab": {
          "base_uri": "https://localhost:8080/"
        },
        "id": "omyIBAjRIWB_",
        "outputId": "70a3279d-c9b1-4bac-c22d-5af44096d353"
      },
      "execution_count": null,
      "outputs": [
        {
          "output_type": "stream",
          "name": "stdout",
          "text": [
            "[4775, 145] [4775, 145, 132]\n"
          ]
        }
      ]
    },
    {
      "cell_type": "code",
      "source": [
        "## finding len of max sequence\n",
        "max_seq_len=max([len(seq) for seq in input_sequences])\n",
        "max_seq_len"
      ],
      "metadata": {
        "colab": {
          "base_uri": "https://localhost:8080/"
        },
        "id": "LSu2RzFTLZN2",
        "outputId": "3ed002a6-f0df-449a-eec2-b4c0f861bbef"
      },
      "execution_count": null,
      "outputs": [
        {
          "output_type": "execute_result",
          "data": {
            "text/plain": [
              "20"
            ]
          },
          "metadata": {},
          "execution_count": 9
        }
      ]
    },
    {
      "cell_type": "code",
      "source": [
        "## padding to make sure sequences are of same lengths\n",
        "padded_sequences=pad_sequences(input_sequences,maxlen=max_seq_len)\n",
        "print(padded_sequences[0],padded_sequences[1])"
      ],
      "metadata": {
        "colab": {
          "base_uri": "https://localhost:8080/"
        },
        "id": "ItGzXiBzLoFa",
        "outputId": "f5f010f8-4d21-4b0e-e49d-c8fea9edf5ac"
      },
      "execution_count": null,
      "outputs": [
        {
          "output_type": "stream",
          "name": "stdout",
          "text": [
            "[   0    0    0    0    0    0    0    0    0    0    0    0    0    0\n",
            "    0    0    0    0 4775  145] [   0    0    0    0    0    0    0    0    0    0    0    0    0    0\n",
            "    0    0    0 4775  145  132]\n"
          ]
        }
      ]
    },
    {
      "cell_type": "code",
      "source": [
        "import numpy as np\n",
        "padded_sequences=np.array(padded_sequences)"
      ],
      "metadata": {
        "id": "Fn6M9SgLL9o7"
      },
      "execution_count": null,
      "outputs": []
    },
    {
      "cell_type": "code",
      "source": [
        "x=padded_sequences[:,:-1]\n",
        "labels=padded_sequences[:,-1]"
      ],
      "metadata": {
        "id": "b-X_M4fSNGO0"
      },
      "execution_count": null,
      "outputs": []
    },
    {
      "cell_type": "code",
      "source": [
        "y=tf.keras.utils.to_categorical(labels,num_classes=vocab_size)"
      ],
      "metadata": {
        "id": "BPhtVEtINShl"
      },
      "execution_count": null,
      "outputs": []
    },
    {
      "cell_type": "code",
      "source": [
        "print(x.shape,y.shape)"
      ],
      "metadata": {
        "colab": {
          "base_uri": "https://localhost:8080/"
        },
        "id": "SJt3wVdxNgZU",
        "outputId": "a6f79bc6-31a3-4b3c-dc62-e57f34007034"
      },
      "execution_count": null,
      "outputs": [
        {
          "output_type": "stream",
          "name": "stdout",
          "text": [
            "(101575, 19) (101575, 8915)\n"
          ]
        }
      ]
    },
    {
      "cell_type": "code",
      "source": [
        "from tensorflow.keras.models import Sequential\n",
        "from tensorflow.keras.layers import LSTM,Embedding,Dense,Bidirectional\n",
        "from tensorflow.keras.callbacks import EarlyStopping\n",
        "from tensorflow.keras.optimizers import Adam"
      ],
      "metadata": {
        "id": "NAcPn5m4Nq5W"
      },
      "execution_count": null,
      "outputs": []
    },
    {
      "cell_type": "code",
      "source": [
        "model=Sequential([\n",
        "    Embedding(vocab_size,100,input_length=max_seq_len-1),\n",
        "    Bidirectional(LSTM(256)),\n",
        "    Dense(vocab_size,activation='softmax')\n",
        "])"
      ],
      "metadata": {
        "id": "bEhPHnxYQDSo"
      },
      "execution_count": null,
      "outputs": []
    },
    {
      "cell_type": "code",
      "source": [
        "model.summary()"
      ],
      "metadata": {
        "colab": {
          "base_uri": "https://localhost:8080/"
        },
        "id": "PNqRDfO7RZ2f",
        "outputId": "ec2da3a6-4f92-4913-a18d-a81861bb5736"
      },
      "execution_count": null,
      "outputs": [
        {
          "output_type": "stream",
          "name": "stdout",
          "text": [
            "Model: \"sequential\"\n",
            "_________________________________________________________________\n",
            " Layer (type)                Output Shape              Param #   \n",
            "=================================================================\n",
            " embedding (Embedding)       (None, 19, 100)           891500    \n",
            "                                                                 \n",
            " bidirectional (Bidirectiona  (None, 512)              731136    \n",
            " l)                                                              \n",
            "                                                                 \n",
            " dense (Dense)               (None, 8915)              4573395   \n",
            "                                                                 \n",
            "=================================================================\n",
            "Total params: 6,196,031\n",
            "Trainable params: 6,196,031\n",
            "Non-trainable params: 0\n",
            "_________________________________________________________________\n"
          ]
        }
      ]
    },
    {
      "cell_type": "code",
      "source": [
        "model.compile(optimizer=Adam(learning_rate=0.01),loss='categorical_crossentropy',metrics=['acc'])"
      ],
      "metadata": {
        "id": "MujdVhmVQkbv"
      },
      "execution_count": null,
      "outputs": []
    },
    {
      "cell_type": "code",
      "source": [
        "es=EarlyStopping(monitor='acc',min_delta=0.01,patience=10)"
      ],
      "metadata": {
        "id": "etUwFw6ERjFr"
      },
      "execution_count": null,
      "outputs": []
    },
    {
      "cell_type": "code",
      "source": [
        "model.fit(x,y,epochs=50,batch_size=512,verbose=1,callbacks=[es])"
      ],
      "metadata": {
        "colab": {
          "base_uri": "https://localhost:8080/"
        },
        "id": "IujhmTsqRyfX",
        "outputId": "e608154f-0738-48e4-a16d-bc97754f9102"
      },
      "execution_count": null,
      "outputs": [
        {
          "output_type": "stream",
          "name": "stdout",
          "text": [
            "Epoch 1/50\n",
            "199/199 [==============================] - 12s 35ms/step - loss: 6.2099 - acc: 0.0840\n",
            "Epoch 2/50\n",
            "199/199 [==============================] - 7s 35ms/step - loss: 5.2944 - acc: 0.1434\n",
            "Epoch 3/50\n",
            "199/199 [==============================] - 7s 35ms/step - loss: 4.7578 - acc: 0.1731\n",
            "Epoch 4/50\n",
            "199/199 [==============================] - 7s 35ms/step - loss: 4.2413 - acc: 0.2027\n",
            "Epoch 5/50\n",
            "199/199 [==============================] - 7s 35ms/step - loss: 3.7349 - acc: 0.2468\n",
            "Epoch 6/50\n",
            "199/199 [==============================] - 7s 36ms/step - loss: 3.2945 - acc: 0.2964\n",
            "Epoch 7/50\n",
            "199/199 [==============================] - 7s 35ms/step - loss: 2.9165 - acc: 0.3521\n",
            "Epoch 8/50\n",
            "199/199 [==============================] - 7s 35ms/step - loss: 2.6231 - acc: 0.3997\n",
            "Epoch 9/50\n",
            "199/199 [==============================] - 7s 35ms/step - loss: 2.3793 - acc: 0.4415\n",
            "Epoch 10/50\n",
            "199/199 [==============================] - 7s 35ms/step - loss: 2.1865 - acc: 0.4774\n",
            "Epoch 11/50\n",
            "199/199 [==============================] - 7s 35ms/step - loss: 2.0095 - acc: 0.5139\n",
            "Epoch 12/50\n",
            "199/199 [==============================] - 7s 35ms/step - loss: 1.8600 - acc: 0.5409\n",
            "Epoch 13/50\n",
            "199/199 [==============================] - 7s 35ms/step - loss: 1.7482 - acc: 0.5641\n",
            "Epoch 14/50\n",
            "199/199 [==============================] - 7s 35ms/step - loss: 1.6580 - acc: 0.5833\n",
            "Epoch 15/50\n",
            "199/199 [==============================] - 7s 36ms/step - loss: 1.5807 - acc: 0.5984\n",
            "Epoch 16/50\n",
            "199/199 [==============================] - 7s 35ms/step - loss: 1.5156 - acc: 0.6103\n",
            "Epoch 17/50\n",
            "199/199 [==============================] - 7s 36ms/step - loss: 1.4660 - acc: 0.6213\n",
            "Epoch 18/50\n",
            "199/199 [==============================] - 7s 35ms/step - loss: 1.4105 - acc: 0.6335\n",
            "Epoch 19/50\n",
            "199/199 [==============================] - 7s 36ms/step - loss: 1.3882 - acc: 0.6364\n",
            "Epoch 20/50\n",
            "199/199 [==============================] - 7s 36ms/step - loss: 1.3749 - acc: 0.6372\n",
            "Epoch 21/50\n",
            "199/199 [==============================] - 7s 36ms/step - loss: 1.3559 - acc: 0.6415\n",
            "Epoch 22/50\n",
            "199/199 [==============================] - 7s 37ms/step - loss: 1.3439 - acc: 0.6407\n",
            "Epoch 23/50\n",
            "199/199 [==============================] - 7s 36ms/step - loss: 1.3194 - acc: 0.6487\n",
            "Epoch 24/50\n",
            "199/199 [==============================] - 7s 36ms/step - loss: 1.2792 - acc: 0.6573\n",
            "Epoch 25/50\n",
            "199/199 [==============================] - 7s 36ms/step - loss: 1.2526 - acc: 0.6630\n",
            "Epoch 26/50\n",
            "199/199 [==============================] - 7s 36ms/step - loss: 1.2232 - acc: 0.6698\n",
            "Epoch 27/50\n",
            "199/199 [==============================] - 7s 35ms/step - loss: 1.2195 - acc: 0.6690\n",
            "Epoch 28/50\n",
            "199/199 [==============================] - 7s 35ms/step - loss: 1.2286 - acc: 0.6664\n",
            "Epoch 29/50\n",
            "199/199 [==============================] - 7s 36ms/step - loss: 1.2110 - acc: 0.6704\n",
            "Epoch 30/50\n",
            "199/199 [==============================] - 7s 36ms/step - loss: 1.1986 - acc: 0.6741\n",
            "Epoch 31/50\n",
            "199/199 [==============================] - 7s 36ms/step - loss: 1.2284 - acc: 0.6659\n",
            "Epoch 32/50\n",
            "199/199 [==============================] - 7s 36ms/step - loss: 1.2184 - acc: 0.6668\n",
            "Epoch 33/50\n",
            "199/199 [==============================] - 7s 36ms/step - loss: 1.2033 - acc: 0.6694\n",
            "Epoch 34/50\n",
            "199/199 [==============================] - 7s 36ms/step - loss: 1.2215 - acc: 0.6659\n",
            "Epoch 35/50\n",
            "199/199 [==============================] - 7s 36ms/step - loss: 1.2060 - acc: 0.6701\n",
            "Epoch 36/50\n",
            "199/199 [==============================] - 7s 36ms/step - loss: 1.2119 - acc: 0.6662\n",
            "Epoch 37/50\n",
            "199/199 [==============================] - 7s 35ms/step - loss: 1.1934 - acc: 0.6709\n",
            "Epoch 38/50\n",
            "199/199 [==============================] - 7s 36ms/step - loss: 1.1742 - acc: 0.6751\n",
            "Epoch 39/50\n",
            "199/199 [==============================] - 7s 35ms/step - loss: 1.1850 - acc: 0.6731\n",
            "Epoch 40/50\n",
            "199/199 [==============================] - 7s 36ms/step - loss: 1.1651 - acc: 0.6794\n"
          ]
        },
        {
          "output_type": "execute_result",
          "data": {
            "text/plain": [
              "<keras.callbacks.History at 0x7f4fcc1df510>"
            ]
          },
          "metadata": {},
          "execution_count": 20
        }
      ]
    },
    {
      "cell_type": "code",
      "source": [
        "import matplotlib.pyplot as plt\n",
        "\n",
        "history=model.history\n",
        "acc=history.history['acc']\n",
        "loss=history.history['loss']\n",
        "\n",
        "epochs=range(len(acc))\n",
        "\n",
        "plt.plot(epochs,acc,'b',label='Training Accuracy')\n",
        "plt.title(\"Training Accuracy\")\n",
        "\n",
        "plt.figure()\n",
        "\n",
        "plt.plot(epochs,acc,'b',label='Training Loss')\n",
        "plt.title(\"Training Loss\")\n",
        "plt.legend()"
      ],
      "metadata": {
        "colab": {
          "base_uri": "https://localhost:8080/",
          "height": 563
        },
        "id": "OOp2LxSlSIOc",
        "outputId": "1c28411d-b9be-4a17-b137-9bcc422de10d"
      },
      "execution_count": null,
      "outputs": [
        {
          "output_type": "execute_result",
          "data": {
            "text/plain": [
              "<matplotlib.legend.Legend at 0x7f4fc4bd0b50>"
            ]
          },
          "metadata": {},
          "execution_count": 21
        },
        {
          "output_type": "display_data",
          "data": {
            "text/plain": [
              "<Figure size 432x288 with 1 Axes>"
            ],
            "image/png": "[encoded data removed]"
          },
          "metadata": {
            "needs_background": "light"
          }
        },
        {
          "output_type": "display_data",
          "data": {
            "text/plain": [
              "<Figure size 432x288 with 1 Axes>"
            ],
            "image/png": "[encoded data removed]"
          },
          "metadata": {
            "needs_background": "light"
          }
        }
      ]
    }
  ]
}