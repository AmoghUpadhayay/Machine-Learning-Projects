{
  "nbformat": 4,
  "nbformat_minor": 0,
  "metadata": {
    "colab": {
      "provenance": [],
      "collapsed_sections": [],
      "authorship_tag": "ABX9TyNyhPutmvlnWE/AKi0ll1h5",
      "include_colab_link": true
    },
    "kernelspec": {
      "name": "python3",
      "display_name": "Python 3"
    },
    "language_info": {
      "name": "python"
    },
    "accelerator": "GPU",
    "gpuClass": "standard"
  },
  "cells": [
    {
      "cell_type": "markdown",
      "metadata": {
        "id": "view-in-github",
        "colab_type": "text"
      },
      "source": [
        "<a href=\"https://colab.research.google.com/github/AmoghUpadhayay/Machine-Learning-Projects/blob/main/Text_Generation.ipynb\" target=\"_parent\"><img src=\"https://colab.research.google.com/assets/colab-badge.svg\" alt=\"Open In Colab\"/></a>"
      ]
    },
    {
      "cell_type": "code",
      "execution_count": 1,
      "metadata": {
        "id": "QvEAW3Q9HbcP"
      },
      "outputs": [],
      "source": [
        "!wget https://www.gutenberg.org/files/1661/1661-0.txt -o book.txt"
      ]
    },
    {
      "cell_type": "code",
      "source": [
        "text=open('1661-0.txt','r',encoding='utf-8').read()\n",
        "text=text.lower()"
      ],
      "metadata": {
        "id": "NmRhg5RcHgR9"
      },
      "execution_count": 2,
      "outputs": []
    },
    {
      "cell_type": "code",
      "source": [
        "type(text)"
      ],
      "metadata": {
        "colab": {
          "base_uri": "https://localhost:8080/"
        },
        "id": "Jmt7aWhwVc6v",
        "outputId": "6e6ad4c1-2f87-450d-fbac-19926f304d44"
      },
      "execution_count": 3,
      "outputs": [
        {
          "output_type": "execute_result",
          "data": {
            "text/plain": [
              "str"
            ]
          },
          "metadata": {},
          "execution_count": 3
        }
      ]
    },
    {
      "cell_type": "code",
      "source": [
        "sentences=text.split('\\n')"
      ],
      "metadata": {
        "id": "W_Od0zXKHjry"
      },
      "execution_count": 4,
      "outputs": []
    },
    {
      "cell_type": "code",
      "source": [
        "type(sentences)"
      ],
      "metadata": {
        "colab": {
          "base_uri": "https://localhost:8080/"
        },
        "id": "R5IPY0v6Vz7u",
        "outputId": "eaeb69e7-a2de-4ada-8097-bda75c77a7cd"
      },
      "execution_count": 5,
      "outputs": [
        {
          "output_type": "execute_result",
          "data": {
            "text/plain": [
              "list"
            ]
          },
          "metadata": {},
          "execution_count": 5
        }
      ]
    },
    {
      "cell_type": "code",
      "source": [
        "import tensorflow as tf\n",
        "import keras\n",
        "from keras.preprocessing.text import Tokenizer\n",
        "from keras.preprocessing.sequence import pad_sequences"
      ],
      "metadata": {
        "id": "XKinZLsbHozD"
      },
      "execution_count": 14,
      "outputs": []
    },
    {
      "cell_type": "code",
      "source": [
        "tokenizer=Tokenizer(num_words=None,oov_token='<UNK>')  \n",
        "tokenizer.fit_on_texts(sentences) "
      ],
      "metadata": {
        "id": "T1mnZeoyHpec"
      },
      "execution_count": 7,
      "outputs": []
    },
    {
      "cell_type": "code",
      "source": [
        "vocab_size=len(tokenizer.word_index)+1\n",
        "vocab_size"
      ],
      "metadata": {
        "colab": {
          "base_uri": "https://localhost:8080/"
        },
        "id": "e6iXZQLqHrvb",
        "outputId": "1c4a9638-bf01-4b6b-86e7-85cf5e1edf6e"
      },
      "execution_count": 8,
      "outputs": [
        {
          "output_type": "execute_result",
          "data": {
            "text/plain": [
              "8915"
            ]
          },
          "metadata": {},
          "execution_count": 8
        }
      ]
    },
    {
      "cell_type": "code",
      "source": [
        "sequences=tokenizer.texts_to_sequences(sentences)"
      ],
      "metadata": {
        "id": "KltG-aeIHtq6"
      },
      "execution_count": 10,
      "outputs": []
    },
    {
      "cell_type": "code",
      "source": [
        "input_sequences=[]\n",
        "for sequence in sequences:\n",
        "  for i in range(1,len(sequence)):\n",
        "    n_gram_sequence=sequence[:i+1]\n",
        "    input_sequences.append(n_gram_sequence)\n",
        "print(input_sequences[0],input_sequences[1])"
      ],
      "metadata": {
        "colab": {
          "base_uri": "https://localhost:8080/"
        },
        "id": "omyIBAjRIWB_",
        "outputId": "28b24865-481c-49d4-fdb5-9f54e381ad8d"
      },
      "execution_count": 11,
      "outputs": [
        {
          "output_type": "stream",
          "name": "stdout",
          "text": [
            "[4775, 145] [4775, 145, 132]\n"
          ]
        }
      ]
    },
    {
      "cell_type": "code",
      "source": [
        "max_seq_len=max([len(seq) for seq in input_sequences])\n",
        "max_seq_len"
      ],
      "metadata": {
        "colab": {
          "base_uri": "https://localhost:8080/"
        },
        "id": "LSu2RzFTLZN2",
        "outputId": "ffdccce9-1aa3-4608-a8f6-46714db806d0"
      },
      "execution_count": 12,
      "outputs": [
        {
          "output_type": "execute_result",
          "data": {
            "text/plain": [
              "20"
            ]
          },
          "metadata": {},
          "execution_count": 12
        }
      ]
    },
    {
      "cell_type": "code",
      "source": [
        "padded_sequences=pad_sequences(input_sequences,maxlen=max_seq_len)\n",
        "print(padded_sequences[0],padded_sequences[1])"
      ],
      "metadata": {
        "colab": {
          "base_uri": "https://localhost:8080/"
        },
        "id": "ItGzXiBzLoFa",
        "outputId": "f7f2a514-2c16-4ab5-f54f-a13406858601"
      },
      "execution_count": 15,
      "outputs": [
        {
          "output_type": "stream",
          "name": "stdout",
          "text": [
            "[   0    0    0    0    0    0    0    0    0    0    0    0    0    0\n",
            "    0    0    0    0 4775  145] [   0    0    0    0    0    0    0    0    0    0    0    0    0    0\n",
            "    0    0    0 4775  145  132]\n"
          ]
        }
      ]
    },
    {
      "cell_type": "code",
      "source": [
        "import numpy as np\n",
        "padded_sequences=np.array(padded_sequences)"
      ],
      "metadata": {
        "id": "Fn6M9SgLL9o7"
      },
      "execution_count": 16,
      "outputs": []
    },
    {
      "cell_type": "code",
      "source": [
        "x=padded_sequences[:,:-1]\n",
        "labels=padded_sequences[:,-1]"
      ],
      "metadata": {
        "id": "b-X_M4fSNGO0"
      },
      "execution_count": 17,
      "outputs": []
    },
    {
      "cell_type": "code",
      "source": [
        "y=tf.keras.utils.to_categorical(labels,num_classes=vocab_size)"
      ],
      "metadata": {
        "id": "BPhtVEtINShl"
      },
      "execution_count": 18,
      "outputs": []
    },
    {
      "cell_type": "code",
      "source": [
        "print(x.shape,y.shape)"
      ],
      "metadata": {
        "colab": {
          "base_uri": "https://localhost:8080/"
        },
        "id": "SJt3wVdxNgZU",
        "outputId": "a9ae8683-8b6b-4448-d2d7-301c8d89b634"
      },
      "execution_count": 19,
      "outputs": [
        {
          "output_type": "stream",
          "name": "stdout",
          "text": [
            "(101575, 19) (101575, 8915)\n"
          ]
        }
      ]
    },
    {
      "cell_type": "code",
      "source": [
        "from tensorflow.keras.models import Sequential\n",
        "from tensorflow.keras.layers import LSTM,Embedding,Dense,Bidirectional\n",
        "from tensorflow.keras.callbacks import EarlyStopping\n",
        "from tensorflow.keras.optimizers import Adam"
      ],
      "metadata": {
        "id": "NAcPn5m4Nq5W"
      },
      "execution_count": 20,
      "outputs": []
    },
    {
      "cell_type": "code",
      "source": [
        "model=Sequential([\n",
        "    Embedding(vocab_size,100,input_length=max_seq_len-1), \n",
        "    Bidirectional(LSTM(256)),\n",
        "    Dense(vocab_size,activation='softmax')\n",
        "])"
      ],
      "metadata": {
        "id": "bEhPHnxYQDSo"
      },
      "execution_count": 21,
      "outputs": []
    },
    {
      "cell_type": "code",
      "source": [
        "model.summary()"
      ],
      "metadata": {
        "colab": {
          "base_uri": "https://localhost:8080/"
        },
        "id": "PNqRDfO7RZ2f",
        "outputId": "e04505bc-737f-4da3-bdef-8a623013109a"
      },
      "execution_count": 22,
      "outputs": [
        {
          "output_type": "stream",
          "name": "stdout",
          "text": [
            "Model: \"sequential\"\n",
            "_________________________________________________________________\n",
            " Layer (type)                Output Shape              Param #   \n",
            "=================================================================\n",
            " embedding (Embedding)       (None, 19, 100)           891500    \n",
            "                                                                 \n",
            " bidirectional (Bidirectiona  (None, 512)              731136    \n",
            " l)                                                              \n",
            "                                                                 \n",
            " dense (Dense)               (None, 8915)              4573395   \n",
            "                                                                 \n",
            "=================================================================\n",
            "Total params: 6,196,031\n",
            "Trainable params: 6,196,031\n",
            "Non-trainable params: 0\n",
            "_________________________________________________________________\n"
          ]
        }
      ]
    },
    {
      "cell_type": "code",
      "source": [
        "model.compile(optimizer=Adam(learning_rate=0.01),loss='categorical_crossentropy',metrics=['acc'])"
      ],
      "metadata": {
        "id": "MujdVhmVQkbv"
      },
      "execution_count": 23,
      "outputs": []
    },
    {
      "cell_type": "code",
      "source": [
        "es=EarlyStopping(monitor='acc',min_delta=0.01,patience=10)"
      ],
      "metadata": {
        "id": "etUwFw6ERjFr"
      },
      "execution_count": 24,
      "outputs": []
    },
    {
      "cell_type": "code",
      "source": [
        "model.fit(x,y,epochs=50,batch_size=512,verbose=1,callbacks=[es])"
      ],
      "metadata": {
        "colab": {
          "base_uri": "https://localhost:8080/"
        },
        "id": "IujhmTsqRyfX",
        "outputId": "6f4f512b-a0f2-433f-dc86-7b6d6ea37c3d"
      },
      "execution_count": 25,
      "outputs": [
        {
          "output_type": "stream",
          "name": "stdout",
          "text": [
            "Epoch 1/50\n",
            "199/199 [==============================] - 15s 36ms/step - loss: 6.1976 - acc: 0.0859\n",
            "Epoch 2/50\n",
            "199/199 [==============================] - 7s 35ms/step - loss: 5.3065 - acc: 0.1430\n",
            "Epoch 3/50\n",
            "199/199 [==============================] - 7s 36ms/step - loss: 4.7737 - acc: 0.1732\n",
            "Epoch 4/50\n",
            "199/199 [==============================] - 7s 36ms/step - loss: 4.2629 - acc: 0.2041\n",
            "Epoch 5/50\n",
            "199/199 [==============================] - 7s 37ms/step - loss: 3.7646 - acc: 0.2446\n",
            "Epoch 6/50\n",
            "199/199 [==============================] - 7s 36ms/step - loss: 3.3251 - acc: 0.2960\n",
            "Epoch 7/50\n",
            "199/199 [==============================] - 7s 36ms/step - loss: 2.9568 - acc: 0.3480\n",
            "Epoch 8/50\n",
            "199/199 [==============================] - 7s 36ms/step - loss: 2.6571 - acc: 0.3950\n",
            "Epoch 9/50\n",
            "199/199 [==============================] - 7s 36ms/step - loss: 2.3984 - acc: 0.4398\n",
            "Epoch 10/50\n",
            "199/199 [==============================] - 7s 36ms/step - loss: 2.1915 - acc: 0.4799\n",
            "Epoch 11/50\n",
            "199/199 [==============================] - 7s 37ms/step - loss: 2.0267 - acc: 0.5101\n",
            "Epoch 12/50\n",
            "199/199 [==============================] - 7s 37ms/step - loss: 1.8802 - acc: 0.5389\n",
            "Epoch 13/50\n",
            "199/199 [==============================] - 7s 37ms/step - loss: 1.7538 - acc: 0.5653\n",
            "Epoch 14/50\n",
            "199/199 [==============================] - 7s 37ms/step - loss: 1.6566 - acc: 0.5840\n",
            "Epoch 15/50\n",
            "199/199 [==============================] - 7s 37ms/step - loss: 1.5741 - acc: 0.6035\n",
            "Epoch 16/50\n",
            "199/199 [==============================] - 7s 36ms/step - loss: 1.5095 - acc: 0.6142\n",
            "Epoch 17/50\n",
            "199/199 [==============================] - 7s 37ms/step - loss: 1.4563 - acc: 0.6258\n",
            "Epoch 18/50\n",
            "199/199 [==============================] - 7s 36ms/step - loss: 1.4152 - acc: 0.6340\n",
            "Epoch 19/50\n",
            "199/199 [==============================] - 7s 36ms/step - loss: 1.3777 - acc: 0.6406\n",
            "Epoch 20/50\n",
            "199/199 [==============================] - 7s 36ms/step - loss: 1.3439 - acc: 0.6481\n",
            "Epoch 21/50\n",
            "199/199 [==============================] - 7s 36ms/step - loss: 1.3214 - acc: 0.6495\n",
            "Epoch 22/50\n",
            "199/199 [==============================] - 7s 36ms/step - loss: 1.2796 - acc: 0.6608\n",
            "Epoch 23/50\n",
            "199/199 [==============================] - 7s 36ms/step - loss: 1.2581 - acc: 0.6645\n",
            "Epoch 24/50\n",
            "199/199 [==============================] - 7s 37ms/step - loss: 1.2538 - acc: 0.6645\n",
            "Epoch 25/50\n",
            "199/199 [==============================] - 7s 36ms/step - loss: 1.2604 - acc: 0.6633\n",
            "Epoch 26/50\n",
            "199/199 [==============================] - 7s 36ms/step - loss: 1.2628 - acc: 0.6604\n",
            "Epoch 27/50\n",
            "199/199 [==============================] - 7s 36ms/step - loss: 1.2440 - acc: 0.6644\n",
            "Epoch 28/50\n",
            "199/199 [==============================] - 7s 36ms/step - loss: 1.2437 - acc: 0.6633\n",
            "Epoch 29/50\n",
            "199/199 [==============================] - 7s 36ms/step - loss: 1.2293 - acc: 0.6668\n",
            "Epoch 30/50\n",
            "199/199 [==============================] - 7s 36ms/step - loss: 1.2264 - acc: 0.6669\n",
            "Epoch 31/50\n",
            "199/199 [==============================] - 7s 36ms/step - loss: 1.2226 - acc: 0.6670\n",
            "Epoch 32/50\n",
            "199/199 [==============================] - 7s 36ms/step - loss: 1.2146 - acc: 0.6699\n"
          ]
        },
        {
          "output_type": "execute_result",
          "data": {
            "text/plain": [
              "<keras.callbacks.History at 0x7f684014a150>"
            ]
          },
          "metadata": {},
          "execution_count": 25
        }
      ]
    },
    {
      "cell_type": "code",
      "source": [
        "import matplotlib.pyplot as plt\n",
        "\n",
        "history=model.history\n",
        "acc=history.history['acc']\n",
        "loss=history.history['loss']\n",
        "\n",
        "epochs=range(len(acc))\n",
        "\n",
        "plt.plot(epochs,acc,'b',label='Training Accuracy')\n",
        "plt.title(\"Training Accuracy\")\n",
        "\n",
        "plt.figure()\n",
        "\n",
        "plt.plot(epochs,loss,'b',label='Training Loss')\n",
        "plt.title(\"Training Loss\")\n",
        "plt.legend()"
      ],
      "metadata": {
        "colab": {
          "base_uri": "https://localhost:8080/",
          "height": 563
        },
        "id": "OOp2LxSlSIOc",
        "outputId": "03245ea7-3434-4102-96f5-2ac89de50cc5"
      },
      "execution_count": 26,
      "outputs": [
        {
          "output_type": "execute_result",
          "data": {
            "text/plain": [
              "<matplotlib.legend.Legend at 0x7f66ab7dd550>"
            ]
          },
          "metadata": {},
          "execution_count": 26
        },
        {
          "output_type": "display_data",
          "data": {
            "text/plain": [
              "<Figure size 432x288 with 1 Axes>"
            ],
            "image/png": "[encoded data removed]"
          },
          "metadata": {
            "needs_background": "light"
          }
        },
        {
          "output_type": "display_data",
          "data": {
            "text/plain": [
              "<Figure size 432x288 with 1 Axes>"
            ],
            "image/png": "[encoded data removed]"
          },
          "metadata": {
            "needs_background": "light"
          }
        }
      ]
    }
  ]
}